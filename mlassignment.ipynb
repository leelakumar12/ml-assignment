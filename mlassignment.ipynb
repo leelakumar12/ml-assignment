{
 "cells": [
  {
   "cell_type": "code",
   "execution_count": 1,
   "id": "c7ca7f11",
   "metadata": {},
   "outputs": [],
   "source": [
    "import pandas as pd"
   ]
  },
  {
   "cell_type": "code",
   "execution_count": 2,
   "id": "20fdd684",
   "metadata": {},
   "outputs": [],
   "source": [
    "import numpy as np"
   ]
  },
  {
   "cell_type": "code",
   "execution_count": 3,
   "id": "f2479657",
   "metadata": {},
   "outputs": [
    {
     "name": "stdout",
     "output_type": "stream",
     "text": [
      "Requirement already satisfied: sentence-transformers in c:\\users\\leelakumar\\anaconda3\\lib\\site-packages (3.0.1)\n",
      "Requirement already satisfied: scikit-learn in c:\\users\\leelakumar\\anaconda3\\lib\\site-packages (from sentence-transformers) (0.24.1)\n",
      "Requirement already satisfied: huggingface-hub>=0.15.1 in c:\\users\\leelakumar\\anaconda3\\lib\\site-packages (from sentence-transformers) (0.24.3)\n",
      "Requirement already satisfied: torch>=1.11.0 in c:\\users\\leelakumar\\anaconda3\\lib\\site-packages (from sentence-transformers) (2.4.0)\n",
      "Requirement already satisfied: transformers<5.0.0,>=4.34.0 in c:\\users\\leelakumar\\anaconda3\\lib\\site-packages (from sentence-transformers) (4.43.3)\n",
      "Requirement already satisfied: numpy in c:\\users\\leelakumar\\anaconda3\\lib\\site-packages (from sentence-transformers) (1.22.4)\n",
      "Requirement already satisfied: tqdm in c:\\users\\leelakumar\\anaconda3\\lib\\site-packages (from sentence-transformers) (4.66.4)\n",
      "Requirement already satisfied: scipy in c:\\users\\leelakumar\\anaconda3\\lib\\site-packages (from sentence-transformers) (1.6.2)\n",
      "Requirement already satisfied: Pillow in c:\\users\\leelakumar\\anaconda3\\lib\\site-packages (from sentence-transformers) (8.2.0)\n",
      "Requirement already satisfied: filelock in c:\\users\\leelakumar\\anaconda3\\lib\\site-packages (from huggingface-hub>=0.15.1->sentence-transformers) (3.0.12)\n",
      "Requirement already satisfied: typing-extensions>=3.7.4.3 in c:\\users\\leelakumar\\anaconda3\\lib\\site-packages (from huggingface-hub>=0.15.1->sentence-transformers) (4.12.2)\n",
      "Requirement already satisfied: pyyaml>=5.1 in c:\\users\\leelakumar\\anaconda3\\lib\\site-packages (from huggingface-hub>=0.15.1->sentence-transformers) (5.4.1)\n",
      "Requirement already satisfied: fsspec>=2023.5.0 in c:\\users\\leelakumar\\anaconda3\\lib\\site-packages (from huggingface-hub>=0.15.1->sentence-transformers) (2024.6.1)\n",
      "Requirement already satisfied: requests in c:\\users\\leelakumar\\anaconda3\\lib\\site-packages (from huggingface-hub>=0.15.1->sentence-transformers) (2.25.1)\n",
      "Requirement already satisfied: packaging>=20.9 in c:\\users\\leelakumar\\anaconda3\\lib\\site-packages (from huggingface-hub>=0.15.1->sentence-transformers) (20.9)\n",
      "Requirement already satisfied: pyparsing>=2.0.2 in c:\\users\\leelakumar\\anaconda3\\lib\\site-packages (from packaging>=20.9->huggingface-hub>=0.15.1->sentence-transformers) (2.4.7)\n",
      "Requirement already satisfied: jinja2 in c:\\users\\leelakumar\\anaconda3\\lib\\site-packages (from torch>=1.11.0->sentence-transformers) (2.11.3)\n",
      "Requirement already satisfied: networkx in c:\\users\\leelakumar\\anaconda3\\lib\\site-packages (from torch>=1.11.0->sentence-transformers) (2.5)\n",
      "Requirement already satisfied: sympy in c:\\users\\leelakumar\\anaconda3\\lib\\site-packages (from torch>=1.11.0->sentence-transformers) (1.8)\n",
      "Requirement already satisfied: colorama in c:\\users\\leelakumar\\anaconda3\\lib\\site-packages (from tqdm->sentence-transformers) (0.4.4)\n",
      "Requirement already satisfied: tokenizers<0.20,>=0.19 in c:\\users\\leelakumar\\anaconda3\\lib\\site-packages (from transformers<5.0.0,>=4.34.0->sentence-transformers) (0.19.1)\n",
      "Requirement already satisfied: regex!=2019.12.17 in c:\\users\\leelakumar\\anaconda3\\lib\\site-packages (from transformers<5.0.0,>=4.34.0->sentence-transformers) (2021.4.4)\n",
      "Requirement already satisfied: safetensors>=0.4.1 in c:\\users\\leelakumar\\anaconda3\\lib\\site-packages (from transformers<5.0.0,>=4.34.0->sentence-transformers) (0.4.3)\n",
      "Requirement already satisfied: MarkupSafe>=0.23 in c:\\users\\leelakumar\\anaconda3\\lib\\site-packages (from jinja2->torch>=1.11.0->sentence-transformers) (1.1.1)\n",
      "Requirement already satisfied: decorator>=4.3.0 in c:\\users\\leelakumar\\anaconda3\\lib\\site-packages (from networkx->torch>=1.11.0->sentence-transformers) (5.0.6)\n",
      "Requirement already satisfied: certifi>=2017.4.17 in c:\\users\\leelakumar\\anaconda3\\lib\\site-packages (from requests->huggingface-hub>=0.15.1->sentence-transformers) (2020.12.5)\n",
      "Requirement already satisfied: idna<3,>=2.5 in c:\\users\\leelakumar\\anaconda3\\lib\\site-packages (from requests->huggingface-hub>=0.15.1->sentence-transformers) (2.10)\n",
      "Requirement already satisfied: chardet<5,>=3.0.2 in c:\\users\\leelakumar\\anaconda3\\lib\\site-packages (from requests->huggingface-hub>=0.15.1->sentence-transformers) (4.0.0)\n",
      "Requirement already satisfied: urllib3<1.27,>=1.21.1 in c:\\users\\leelakumar\\anaconda3\\lib\\site-packages (from requests->huggingface-hub>=0.15.1->sentence-transformers) (1.26.4)\n",
      "Requirement already satisfied: joblib>=0.11 in c:\\users\\leelakumar\\anaconda3\\lib\\site-packages (from scikit-learn->sentence-transformers) (1.0.1)\n",
      "Requirement already satisfied: threadpoolctl>=2.0.0 in c:\\users\\leelakumar\\anaconda3\\lib\\site-packages (from scikit-learn->sentence-transformers) (2.1.0)\n",
      "Requirement already satisfied: mpmath>=0.19 in c:\\users\\leelakumar\\anaconda3\\lib\\site-packages (from sympy->torch>=1.11.0->sentence-transformers) (1.2.1)\n"
     ]
    }
   ],
   "source": [
    "!pip install sentence-transformers"
   ]
  },
  {
   "cell_type": "code",
   "execution_count": 4,
   "id": "d1d3a671",
   "metadata": {},
   "outputs": [],
   "source": [
    "import re\n",
    "from sklearn.model_selection import train_test_split"
   ]
  },
  {
   "cell_type": "code",
   "execution_count": 5,
   "id": "68e7fed4",
   "metadata": {},
   "outputs": [
    {
     "name": "stdout",
     "output_type": "stream",
     "text": [
      "Requirement already satisfied: sentence-transformers in c:\\users\\leelakumar\\anaconda3\\lib\\site-packages (3.0.1)\n",
      "Requirement already satisfied: tqdm in c:\\users\\leelakumar\\anaconda3\\lib\\site-packages (4.66.4)\n",
      "Requirement already satisfied: Pillow in c:\\users\\leelakumar\\anaconda3\\lib\\site-packages (from sentence-transformers) (8.2.0)\n",
      "Requirement already satisfied: numpy in c:\\users\\leelakumar\\anaconda3\\lib\\site-packages (from sentence-transformers) (1.22.4)\n",
      "Requirement already satisfied: scipy in c:\\users\\leelakumar\\anaconda3\\lib\\site-packages (from sentence-transformers) (1.6.2)\n",
      "Requirement already satisfied: transformers<5.0.0,>=4.34.0 in c:\\users\\leelakumar\\anaconda3\\lib\\site-packages (from sentence-transformers) (4.43.3)\n",
      "Requirement already satisfied: huggingface-hub>=0.15.1 in c:\\users\\leelakumar\\anaconda3\\lib\\site-packages (from sentence-transformers) (0.24.3)\n",
      "Requirement already satisfied: scikit-learn in c:\\users\\leelakumar\\anaconda3\\lib\\site-packages (from sentence-transformers) (0.24.1)\n",
      "Requirement already satisfied: torch>=1.11.0 in c:\\users\\leelakumar\\anaconda3\\lib\\site-packages (from sentence-transformers) (2.4.0)\n",
      "Requirement already satisfied: fsspec>=2023.5.0 in c:\\users\\leelakumar\\anaconda3\\lib\\site-packages (from huggingface-hub>=0.15.1->sentence-transformers) (2024.6.1)\n",
      "Requirement already satisfied: filelock in c:\\users\\leelakumar\\anaconda3\\lib\\site-packages (from huggingface-hub>=0.15.1->sentence-transformers) (3.0.12)\n",
      "Requirement already satisfied: typing-extensions>=3.7.4.3 in c:\\users\\leelakumar\\anaconda3\\lib\\site-packages (from huggingface-hub>=0.15.1->sentence-transformers) (4.12.2)\n",
      "Requirement already satisfied: pyyaml>=5.1 in c:\\users\\leelakumar\\anaconda3\\lib\\site-packages (from huggingface-hub>=0.15.1->sentence-transformers) (5.4.1)\n",
      "Requirement already satisfied: requests in c:\\users\\leelakumar\\anaconda3\\lib\\site-packages (from huggingface-hub>=0.15.1->sentence-transformers) (2.25.1)\n",
      "Requirement already satisfied: packaging>=20.9 in c:\\users\\leelakumar\\anaconda3\\lib\\site-packages (from huggingface-hub>=0.15.1->sentence-transformers) (20.9)\n",
      "Requirement already satisfied: colorama in c:\\users\\leelakumar\\anaconda3\\lib\\site-packages (from tqdm) (0.4.4)\n",
      "Requirement already satisfied: pyparsing>=2.0.2 in c:\\users\\leelakumar\\anaconda3\\lib\\site-packages (from packaging>=20.9->huggingface-hub>=0.15.1->sentence-transformers) (2.4.7)\n",
      "Requirement already satisfied: jinja2 in c:\\users\\leelakumar\\anaconda3\\lib\\site-packages (from torch>=1.11.0->sentence-transformers) (2.11.3)\n",
      "Requirement already satisfied: sympy in c:\\users\\leelakumar\\anaconda3\\lib\\site-packages (from torch>=1.11.0->sentence-transformers) (1.8)\n",
      "Requirement already satisfied: networkx in c:\\users\\leelakumar\\anaconda3\\lib\\site-packages (from torch>=1.11.0->sentence-transformers) (2.5)\n",
      "Requirement already satisfied: safetensors>=0.4.1 in c:\\users\\leelakumar\\anaconda3\\lib\\site-packages (from transformers<5.0.0,>=4.34.0->sentence-transformers) (0.4.3)\n",
      "Requirement already satisfied: regex!=2019.12.17 in c:\\users\\leelakumar\\anaconda3\\lib\\site-packages (from transformers<5.0.0,>=4.34.0->sentence-transformers) (2021.4.4)\n",
      "Requirement already satisfied: tokenizers<0.20,>=0.19 in c:\\users\\leelakumar\\anaconda3\\lib\\site-packages (from transformers<5.0.0,>=4.34.0->sentence-transformers) (0.19.1)\n",
      "Requirement already satisfied: MarkupSafe>=0.23 in c:\\users\\leelakumar\\anaconda3\\lib\\site-packages (from jinja2->torch>=1.11.0->sentence-transformers) (1.1.1)\n",
      "Requirement already satisfied: decorator>=4.3.0 in c:\\users\\leelakumar\\anaconda3\\lib\\site-packages (from networkx->torch>=1.11.0->sentence-transformers) (5.0.6)\n",
      "Requirement already satisfied: certifi>=2017.4.17 in c:\\users\\leelakumar\\anaconda3\\lib\\site-packages (from requests->huggingface-hub>=0.15.1->sentence-transformers) (2020.12.5)\n",
      "Requirement already satisfied: idna<3,>=2.5 in c:\\users\\leelakumar\\anaconda3\\lib\\site-packages (from requests->huggingface-hub>=0.15.1->sentence-transformers) (2.10)\n",
      "Requirement already satisfied: chardet<5,>=3.0.2 in c:\\users\\leelakumar\\anaconda3\\lib\\site-packages (from requests->huggingface-hub>=0.15.1->sentence-transformers) (4.0.0)\n",
      "Requirement already satisfied: urllib3<1.27,>=1.21.1 in c:\\users\\leelakumar\\anaconda3\\lib\\site-packages (from requests->huggingface-hub>=0.15.1->sentence-transformers) (1.26.4)\n",
      "Requirement already satisfied: joblib>=0.11 in c:\\users\\leelakumar\\anaconda3\\lib\\site-packages (from scikit-learn->sentence-transformers) (1.0.1)\n",
      "Requirement already satisfied: threadpoolctl>=2.0.0 in c:\\users\\leelakumar\\anaconda3\\lib\\site-packages (from scikit-learn->sentence-transformers) (2.1.0)\n",
      "Requirement already satisfied: mpmath>=0.19 in c:\\users\\leelakumar\\anaconda3\\lib\\site-packages (from sympy->torch>=1.11.0->sentence-transformers) (1.2.1)\n",
      "Note: you may need to restart the kernel to use updated packages.\n"
     ]
    }
   ],
   "source": [
    "pip install --upgrade sentence-transformers tqdm\n"
   ]
  },
  {
   "cell_type": "code",
   "execution_count": 6,
   "id": "ce23ab2b",
   "metadata": {},
   "outputs": [],
   "source": [
    "import warnings\n",
    "warnings.filterwarnings(\"ignore\", category=UserWarning, module='tqdm')\n"
   ]
  },
  {
   "cell_type": "code",
   "execution_count": 7,
   "id": "57c097b1",
   "metadata": {},
   "outputs": [
    {
     "name": "stderr",
     "output_type": "stream",
     "text": [
      "C:\\Users\\LEELAKUMAR\\anaconda3\\lib\\site-packages\\sentence_transformers\\cross_encoder\\CrossEncoder.py:11: TqdmExperimentalWarning: Using `tqdm.autonotebook.tqdm` in notebook mode. Use `tqdm.tqdm` instead to force console mode (e.g. in jupyter console)\n",
      "  from tqdm.autonotebook import tqdm, trange\n"
     ]
    }
   ],
   "source": [
    "from tqdm import tqdm\n",
    "from sentence_transformers import CrossEncoder\n",
    "\n",
    "\n",
    "tqdm_notebook = tqdm\n"
   ]
  },
  {
   "cell_type": "markdown",
   "id": "9511e41d",
   "metadata": {},
   "source": [
    "# load the dataset"
   ]
  },
  {
   "cell_type": "markdown",
   "id": "e94cfaf9",
   "metadata": {},
   "source": [
    "# step1:\n",
    "Preprocessing and cleaning "
   ]
  },
  {
   "cell_type": "code",
   "execution_count": 8,
   "id": "efa39547",
   "metadata": {},
   "outputs": [],
   "source": [
    "data= pd.read_csv(\"articles.csv\")"
   ]
  },
  {
   "cell_type": "code",
   "execution_count": 9,
   "id": "be43e775",
   "metadata": {},
   "outputs": [
    {
     "data": {
      "text/html": [
       "<div>\n",
       "<style scoped>\n",
       "    .dataframe tbody tr th:only-of-type {\n",
       "        vertical-align: middle;\n",
       "    }\n",
       "\n",
       "    .dataframe tbody tr th {\n",
       "        vertical-align: top;\n",
       "    }\n",
       "\n",
       "    .dataframe thead th {\n",
       "        text-align: right;\n",
       "    }\n",
       "</style>\n",
       "<table border=\"1\" class=\"dataframe\">\n",
       "  <thead>\n",
       "    <tr style=\"text-align: right;\">\n",
       "      <th></th>\n",
       "      <th>Id</th>\n",
       "      <th>Heading</th>\n",
       "      <th>Article.Banner.Image</th>\n",
       "      <th>Outlets</th>\n",
       "      <th>Article.Description</th>\n",
       "      <th>Full_Article</th>\n",
       "      <th>Article_Type</th>\n",
       "      <th>Tonality</th>\n",
       "    </tr>\n",
       "  </thead>\n",
       "  <tbody>\n",
       "    <tr>\n",
       "      <th>0</th>\n",
       "      <td>d6995462-5e87-453b-b64d-e9f1df6e94d2</td>\n",
       "      <td>A Puzzling Maneuver, Then Freefall: NTSB Repor...</td>\n",
       "      <td>NaN</td>\n",
       "      <td>Essex Caller</td>\n",
       "      <td>&lt;p&gt;The helicopter that crashed in Southeast Al...</td>\n",
       "      <td>&lt;p&gt;The helicopter that crashed in Southeast Al...</td>\n",
       "      <td>Commercial</td>\n",
       "      <td>Negative</td>\n",
       "    </tr>\n",
       "    <tr>\n",
       "      <th>1</th>\n",
       "      <td>8b05e939-a89e-4548-b92b-013822e8ee7d</td>\n",
       "      <td>Bell�s Nexus Air Taxi Concept Rings Changes Fo...</td>\n",
       "      <td>NaN</td>\n",
       "      <td>Aviation Week Network</td>\n",
       "      <td>&lt;p&gt;A year after teasing the fledgling electric...</td>\n",
       "      <td>&lt;p&gt;A year after teasing the fledgling electric...</td>\n",
       "      <td>Commercial</td>\n",
       "      <td>Positive</td>\n",
       "    </tr>\n",
       "    <tr>\n",
       "      <th>2</th>\n",
       "      <td>69fcd400-bceb-4255-8277-619f2d68ac0b</td>\n",
       "      <td>Bell Helicopter Show Air Taxi Nexus</td>\n",
       "      <td>http://images.tmtpost.com/uploads/images/2019/...</td>\n",
       "      <td>TMTPost</td>\n",
       "      <td>&lt;p&gt;Bell released the full-size design of the v...</td>\n",
       "      <td>&lt;p&gt;Bell released the full-size design of the v...</td>\n",
       "      <td>Commercial</td>\n",
       "      <td>Positive</td>\n",
       "    </tr>\n",
       "    <tr>\n",
       "      <th>3</th>\n",
       "      <td>17943578-c11b-414b-b3f5-063d3a93157b</td>\n",
       "      <td>BELL D�VOILE LA CONCEPTION INT�GRALE DE SON TA...</td>\n",
       "      <td>http://www.fredzone.org/wp-content/uploads/201...</td>\n",
       "      <td>Fredzone</td>\n",
       "      <td>&lt;p&gt;Bell est une soci&amp;eacute;t&amp;eacute; am&amp;eacut...</td>\n",
       "      <td>&lt;p&gt;Bell est une soci&amp;eacute;t&amp;eacute; am&amp;eacut...</td>\n",
       "      <td>Commercial</td>\n",
       "      <td>Positive</td>\n",
       "    </tr>\n",
       "    <tr>\n",
       "      <th>4</th>\n",
       "      <td>f33c7b11-5f77-4a98-bb2e-d36689042aea</td>\n",
       "      <td>Les premiers retours d�Olivier Ezratty</td>\n",
       "      <td>NaN</td>\n",
       "      <td>FrenchWeb</td>\n",
       "      <td>&lt;p&gt;It was still anecdotal to observe the explo...</td>\n",
       "      <td>&lt;p&gt;It was still anecdotal to observe the explo...</td>\n",
       "      <td>Commercial</td>\n",
       "      <td>Positive</td>\n",
       "    </tr>\n",
       "  </tbody>\n",
       "</table>\n",
       "</div>"
      ],
      "text/plain": [
       "                                     Id  \\\n",
       "0  d6995462-5e87-453b-b64d-e9f1df6e94d2   \n",
       "1  8b05e939-a89e-4548-b92b-013822e8ee7d   \n",
       "2  69fcd400-bceb-4255-8277-619f2d68ac0b   \n",
       "3  17943578-c11b-414b-b3f5-063d3a93157b   \n",
       "4  f33c7b11-5f77-4a98-bb2e-d36689042aea   \n",
       "\n",
       "                                             Heading  \\\n",
       "0  A Puzzling Maneuver, Then Freefall: NTSB Repor...   \n",
       "1  Bell�s Nexus Air Taxi Concept Rings Changes Fo...   \n",
       "2                Bell Helicopter Show Air Taxi Nexus   \n",
       "3  BELL D�VOILE LA CONCEPTION INT�GRALE DE SON TA...   \n",
       "4             Les premiers retours d�Olivier Ezratty   \n",
       "\n",
       "                                Article.Banner.Image                Outlets  \\\n",
       "0                                                NaN           Essex Caller   \n",
       "1                                                NaN  Aviation Week Network   \n",
       "2  http://images.tmtpost.com/uploads/images/2019/...                TMTPost   \n",
       "3  http://www.fredzone.org/wp-content/uploads/201...               Fredzone   \n",
       "4                                                NaN              FrenchWeb   \n",
       "\n",
       "                                 Article.Description  \\\n",
       "0  <p>The helicopter that crashed in Southeast Al...   \n",
       "1  <p>A year after teasing the fledgling electric...   \n",
       "2  <p>Bell released the full-size design of the v...   \n",
       "3  <p>Bell est une soci&eacute;t&eacute; am&eacut...   \n",
       "4  <p>It was still anecdotal to observe the explo...   \n",
       "\n",
       "                                        Full_Article Article_Type  Tonality  \n",
       "0  <p>The helicopter that crashed in Southeast Al...   Commercial  Negative  \n",
       "1  <p>A year after teasing the fledgling electric...   Commercial  Positive  \n",
       "2  <p>Bell released the full-size design of the v...   Commercial  Positive  \n",
       "3  <p>Bell est une soci&eacute;t&eacute; am&eacut...   Commercial  Positive  \n",
       "4  <p>It was still anecdotal to observe the explo...   Commercial  Positive  "
      ]
     },
     "execution_count": 9,
     "metadata": {},
     "output_type": "execute_result"
    }
   ],
   "source": [
    "data.head()"
   ]
  },
  {
   "cell_type": "code",
   "execution_count": 10,
   "id": "5b836755",
   "metadata": {},
   "outputs": [
    {
     "name": "stdout",
     "output_type": "stream",
     "text": [
      "<class 'pandas.core.frame.DataFrame'>\n",
      "RangeIndex: 4305 entries, 0 to 4304\n",
      "Data columns (total 8 columns):\n",
      " #   Column                Non-Null Count  Dtype \n",
      "---  ------                --------------  ----- \n",
      " 0   Id                    4305 non-null   object\n",
      " 1   Heading               4305 non-null   object\n",
      " 2   Article.Banner.Image  1753 non-null   object\n",
      " 3   Outlets               4305 non-null   object\n",
      " 4   Article.Description   4305 non-null   object\n",
      " 5   Full_Article          4305 non-null   object\n",
      " 6   Article_Type          4305 non-null   object\n",
      " 7   Tonality              3873 non-null   object\n",
      "dtypes: object(8)\n",
      "memory usage: 269.2+ KB\n"
     ]
    }
   ],
   "source": [
    "data.info()"
   ]
  },
  {
   "cell_type": "code",
   "execution_count": 11,
   "id": "44c75f18",
   "metadata": {},
   "outputs": [
    {
     "data": {
      "text/html": [
       "<div>\n",
       "<style scoped>\n",
       "    .dataframe tbody tr th:only-of-type {\n",
       "        vertical-align: middle;\n",
       "    }\n",
       "\n",
       "    .dataframe tbody tr th {\n",
       "        vertical-align: top;\n",
       "    }\n",
       "\n",
       "    .dataframe thead th {\n",
       "        text-align: right;\n",
       "    }\n",
       "</style>\n",
       "<table border=\"1\" class=\"dataframe\">\n",
       "  <thead>\n",
       "    <tr style=\"text-align: right;\">\n",
       "      <th></th>\n",
       "      <th>Id</th>\n",
       "      <th>Heading</th>\n",
       "      <th>Article.Banner.Image</th>\n",
       "      <th>Outlets</th>\n",
       "      <th>Article.Description</th>\n",
       "      <th>Full_Article</th>\n",
       "      <th>Article_Type</th>\n",
       "      <th>Tonality</th>\n",
       "    </tr>\n",
       "  </thead>\n",
       "  <tbody>\n",
       "    <tr>\n",
       "      <th>count</th>\n",
       "      <td>4305</td>\n",
       "      <td>4305</td>\n",
       "      <td>1753</td>\n",
       "      <td>4305</td>\n",
       "      <td>4305</td>\n",
       "      <td>4305</td>\n",
       "      <td>4305</td>\n",
       "      <td>3873</td>\n",
       "    </tr>\n",
       "    <tr>\n",
       "      <th>unique</th>\n",
       "      <td>4305</td>\n",
       "      <td>4020</td>\n",
       "      <td>1686</td>\n",
       "      <td>1762</td>\n",
       "      <td>4290</td>\n",
       "      <td>4304</td>\n",
       "      <td>7</td>\n",
       "      <td>3</td>\n",
       "    </tr>\n",
       "    <tr>\n",
       "      <th>top</th>\n",
       "      <td>49348418-84bf-4e74-bb23-ca718776853f</td>\n",
       "      <td>Boeing CEO: First Operational Self-Flying Cars...</td>\n",
       "      <td>http://5b0988e595225.cdn.sohucs.com/images/201...</td>\n",
       "      <td>WeChat</td>\n",
       "      <td>&lt;p&gt;Airbus Helicopters has delivered the first ...</td>\n",
       "      <td>&lt;p&gt;It stated that a �one-time visual inspectio...</td>\n",
       "      <td>Commercial</td>\n",
       "      <td>Positive</td>\n",
       "    </tr>\n",
       "    <tr>\n",
       "      <th>freq</th>\n",
       "      <td>1</td>\n",
       "      <td>8</td>\n",
       "      <td>3</td>\n",
       "      <td>208</td>\n",
       "      <td>2</td>\n",
       "      <td>2</td>\n",
       "      <td>2470</td>\n",
       "      <td>3286</td>\n",
       "    </tr>\n",
       "  </tbody>\n",
       "</table>\n",
       "</div>"
      ],
      "text/plain": [
       "                                          Id  \\\n",
       "count                                   4305   \n",
       "unique                                  4305   \n",
       "top     49348418-84bf-4e74-bb23-ca718776853f   \n",
       "freq                                       1   \n",
       "\n",
       "                                                  Heading  \\\n",
       "count                                                4305   \n",
       "unique                                               4020   \n",
       "top     Boeing CEO: First Operational Self-Flying Cars...   \n",
       "freq                                                    8   \n",
       "\n",
       "                                     Article.Banner.Image Outlets  \\\n",
       "count                                                1753    4305   \n",
       "unique                                               1686    1762   \n",
       "top     http://5b0988e595225.cdn.sohucs.com/images/201...  WeChat   \n",
       "freq                                                    3     208   \n",
       "\n",
       "                                      Article.Description  \\\n",
       "count                                                4305   \n",
       "unique                                               4290   \n",
       "top     <p>Airbus Helicopters has delivered the first ...   \n",
       "freq                                                    2   \n",
       "\n",
       "                                             Full_Article Article_Type  \\\n",
       "count                                                4305         4305   \n",
       "unique                                               4304            7   \n",
       "top     <p>It stated that a �one-time visual inspectio...   Commercial   \n",
       "freq                                                    2         2470   \n",
       "\n",
       "        Tonality  \n",
       "count       3873  \n",
       "unique         3  \n",
       "top     Positive  \n",
       "freq        3286  "
      ]
     },
     "execution_count": 11,
     "metadata": {},
     "output_type": "execute_result"
    }
   ],
   "source": [
    "data.describe()"
   ]
  },
  {
   "cell_type": "code",
   "execution_count": 12,
   "id": "ae81cdd5",
   "metadata": {},
   "outputs": [
    {
     "data": {
      "text/plain": [
       "Id                      4305\n",
       "Heading                 4305\n",
       "Article.Banner.Image    1753\n",
       "Outlets                 4305\n",
       "Article.Description     4305\n",
       "Full_Article            4305\n",
       "Article_Type            4305\n",
       "Tonality                3873\n",
       "dtype: int64"
      ]
     },
     "execution_count": 12,
     "metadata": {},
     "output_type": "execute_result"
    }
   ],
   "source": [
    "data.count()"
   ]
  },
  {
   "cell_type": "code",
   "execution_count": 13,
   "id": "05d71ce7",
   "metadata": {},
   "outputs": [
    {
     "data": {
      "text/plain": [
       "array(['Commercial', 'Military', 'Training', 'Executives', 'Others',\n",
       "       'Financing', 'Support & Services'], dtype=object)"
      ]
     },
     "execution_count": 13,
     "metadata": {},
     "output_type": "execute_result"
    }
   ],
   "source": [
    "data['Article_Type'].unique()"
   ]
  },
  {
   "cell_type": "markdown",
   "id": "021c37c8",
   "metadata": {},
   "source": [
    " Now Combining text columns into a single column and removing HTML tags, punctuation, etc  and Split the data into training and testing sets."
   ]
  },
  {
   "cell_type": "code",
   "execution_count": 14,
   "id": "9c745af9",
   "metadata": {},
   "outputs": [],
   "source": [
    "data['combinetext'] = data['Heading'] + ' ' + data['Article.Description'] + ' ' + data['Full_Article']\n"
   ]
  },
  {
   "cell_type": "code",
   "execution_count": 15,
   "id": "c7a6bade",
   "metadata": {},
   "outputs": [],
   "source": [
    "data['combinetext'] = data['combinetext'].apply(lambda x: re.sub('<.*?>', '', x))"
   ]
  },
  {
   "cell_type": "markdown",
   "id": "5865e8cb",
   "metadata": {},
   "source": [
    "Split the data into training and testing sets"
   ]
  },
  {
   "cell_type": "code",
   "execution_count": 16,
   "id": "aadcc82c",
   "metadata": {},
   "outputs": [],
   "source": [
    "X = data['combinetext']\n",
    "y = data['Article_Type']\n",
    "X_train, X_test, y_train, y_test = train_test_split(X, y, test_size=0.2, random_state=42)"
   ]
  },
  {
   "cell_type": "code",
   "execution_count": 17,
   "id": "ff9d4d18",
   "metadata": {},
   "outputs": [
    {
     "data": {
      "text/plain": [
       "1302    First Images of Prototype Marine One Helicopte...\n",
       "1123    Hengyang people can take a helicopter to heave...\n",
       "1321    Turkish military helicopter crashes on suburba...\n",
       "3894    These Secret Helicopters Were Flown by a Shado...\n",
       "1929    Static Display at MEBAA Show 2018 Announced Wh...\n",
       "Name: combinetext, dtype: object"
      ]
     },
     "execution_count": 17,
     "metadata": {},
     "output_type": "execute_result"
    }
   ],
   "source": [
    "X_train.head()"
   ]
  },
  {
   "cell_type": "code",
   "execution_count": 18,
   "id": "2eab363d",
   "metadata": {},
   "outputs": [],
   "source": [
    "from sentence_transformers import SentenceTransformer"
   ]
  },
  {
   "cell_type": "code",
   "execution_count": 19,
   "id": "de2abedc",
   "metadata": {},
   "outputs": [],
   "source": [
    "model = SentenceTransformer('bert-base-nli-mean-tokens')"
   ]
  },
  {
   "cell_type": "code",
   "execution_count": 20,
   "id": "d7d4c5d9",
   "metadata": {},
   "outputs": [
    {
     "data": {
      "application/vnd.jupyter.widget-view+json": {
       "model_id": "2f373add70d940c68d0bd0a4a832399f",
       "version_major": 2,
       "version_minor": 0
      },
      "text/plain": [
       "Batches:   0%|          | 0/108 [00:00<?, ?it/s]"
      ]
     },
     "metadata": {},
     "output_type": "display_data"
    },
    {
     "data": {
      "application/vnd.jupyter.widget-view+json": {
       "model_id": "f89942e1d4cc4bd9a78f4ce91bce325e",
       "version_major": 2,
       "version_minor": 0
      },
      "text/plain": [
       "Batches:   0%|          | 0/27 [00:00<?, ?it/s]"
      ]
     },
     "metadata": {},
     "output_type": "display_data"
    }
   ],
   "source": [
    "X_train_embeddings = model.encode(X_train.tolist(), show_progress_bar=True)\n",
    "X_test_embeddings = model.encode(X_test.tolist(), show_progress_bar=True)"
   ]
  },
  {
   "cell_type": "markdown",
   "id": "71c98516",
   "metadata": {},
   "source": [
    "MODEL SELECTION AND TUNING"
   ]
  },
  {
   "cell_type": "code",
   "execution_count": 21,
   "id": "336041ca",
   "metadata": {},
   "outputs": [],
   "source": [
    "from sklearn.linear_model import LogisticRegression"
   ]
  },
  {
   "cell_type": "markdown",
   "id": "19b1ef55",
   "metadata": {},
   "source": [
    "Train a Logistic Regression model"
   ]
  },
  {
   "cell_type": "code",
   "execution_count": 22,
   "id": "2e4d3791",
   "metadata": {},
   "outputs": [
    {
     "data": {
      "text/plain": [
       "LogisticRegression(max_iter=7000)"
      ]
     },
     "execution_count": 22,
     "metadata": {},
     "output_type": "execute_result"
    }
   ],
   "source": [
    "clf = LogisticRegression(max_iter=7000)\n",
    "clf.fit(X_train_embeddings, y_train)\n"
   ]
  },
  {
   "cell_type": "code",
   "execution_count": 23,
   "id": "55d5c42e",
   "metadata": {},
   "outputs": [],
   "source": [
    "from sklearn.model_selection import GridSearchCV"
   ]
  },
  {
   "cell_type": "code",
   "execution_count": 26,
   "id": "bd5d3b3b",
   "metadata": {},
   "outputs": [],
   "source": [
    "from sklearn.preprocessing import StandardScaler"
   ]
  },
  {
   "cell_type": "code",
   "execution_count": 27,
   "id": "a032c9b2",
   "metadata": {},
   "outputs": [],
   "source": [
    "scaler = StandardScaler()"
   ]
  },
  {
   "cell_type": "code",
   "execution_count": 29,
   "id": "ba06ff87",
   "metadata": {},
   "outputs": [],
   "source": [
    "from sklearn.pipeline import Pipeline"
   ]
  },
  {
   "cell_type": "code",
   "execution_count": 30,
   "id": "d78bc168",
   "metadata": {},
   "outputs": [],
   "source": [
    "pipeline = Pipeline([\n",
    "    ('scaler', scaler),\n",
    "    ('clf', clf)\n",
    "])\n"
   ]
  },
  {
   "cell_type": "code",
   "execution_count": 31,
   "id": "8f36974a",
   "metadata": {},
   "outputs": [],
   "source": [
    "clf = LogisticRegression(max_iter=7000)"
   ]
  },
  {
   "cell_type": "code",
   "execution_count": null,
   "id": "bfe6a721",
   "metadata": {},
   "outputs": [],
   "source": [
    "param_grid = {\n",
    "    'C': [0.1, 1, 10, 100],\n",
    "    'solver': ['newton-cg', 'lbfgs', 'liblinear','sag', 'saga']\n",
    "}"
   ]
  },
  {
   "cell_type": "code",
   "execution_count": null,
   "id": "c78cda97",
   "metadata": {},
   "outputs": [
    {
     "name": "stderr",
     "output_type": "stream",
     "text": [
      "C:\\Users\\LEELAKUMAR\\anaconda3\\lib\\site-packages\\scipy\\optimize\\linesearch.py:327: LineSearchWarning: The line search algorithm did not converge\n",
      "  warn('The line search algorithm did not converge', LineSearchWarning)\n",
      "C:\\Users\\LEELAKUMAR\\anaconda3\\lib\\site-packages\\sklearn\\utils\\optimize.py:195: UserWarning: Line Search failed\n",
      "  warnings.warn('Line Search failed')\n",
      "C:\\Users\\LEELAKUMAR\\anaconda3\\lib\\site-packages\\scipy\\optimize\\linesearch.py:327: LineSearchWarning: The line search algorithm did not converge\n",
      "  warn('The line search algorithm did not converge', LineSearchWarning)\n",
      "C:\\Users\\LEELAKUMAR\\anaconda3\\lib\\site-packages\\sklearn\\utils\\optimize.py:195: UserWarning: Line Search failed\n",
      "  warnings.warn('Line Search failed')\n",
      "C:\\Users\\LEELAKUMAR\\anaconda3\\lib\\site-packages\\scipy\\optimize\\linesearch.py:327: LineSearchWarning: The line search algorithm did not converge\n",
      "  warn('The line search algorithm did not converge', LineSearchWarning)\n",
      "C:\\Users\\LEELAKUMAR\\anaconda3\\lib\\site-packages\\sklearn\\utils\\optimize.py:195: UserWarning: Line Search failed\n",
      "  warnings.warn('Line Search failed')\n",
      "C:\\Users\\LEELAKUMAR\\anaconda3\\lib\\site-packages\\scipy\\optimize\\linesearch.py:327: LineSearchWarning: The line search algorithm did not converge\n",
      "  warn('The line search algorithm did not converge', LineSearchWarning)\n",
      "C:\\Users\\LEELAKUMAR\\anaconda3\\lib\\site-packages\\sklearn\\utils\\optimize.py:195: UserWarning: Line Search failed\n",
      "  warnings.warn('Line Search failed')\n",
      "C:\\Users\\LEELAKUMAR\\anaconda3\\lib\\site-packages\\scipy\\optimize\\linesearch.py:327: LineSearchWarning: The line search algorithm did not converge\n",
      "  warn('The line search algorithm did not converge', LineSearchWarning)\n",
      "C:\\Users\\LEELAKUMAR\\anaconda3\\lib\\site-packages\\sklearn\\utils\\optimize.py:195: UserWarning: Line Search failed\n",
      "  warnings.warn('Line Search failed')\n",
      "C:\\Users\\LEELAKUMAR\\anaconda3\\lib\\site-packages\\scipy\\optimize\\linesearch.py:327: LineSearchWarning: The line search algorithm did not converge\n",
      "  warn('The line search algorithm did not converge', LineSearchWarning)\n",
      "C:\\Users\\LEELAKUMAR\\anaconda3\\lib\\site-packages\\sklearn\\utils\\optimize.py:195: UserWarning: Line Search failed\n",
      "  warnings.warn('Line Search failed')\n",
      "C:\\Users\\LEELAKUMAR\\anaconda3\\lib\\site-packages\\scipy\\optimize\\linesearch.py:327: LineSearchWarning: The line search algorithm did not converge\n",
      "  warn('The line search algorithm did not converge', LineSearchWarning)\n",
      "C:\\Users\\LEELAKUMAR\\anaconda3\\lib\\site-packages\\sklearn\\utils\\optimize.py:195: UserWarning: Line Search failed\n",
      "  warnings.warn('Line Search failed')\n",
      "C:\\Users\\LEELAKUMAR\\anaconda3\\lib\\site-packages\\scipy\\optimize\\linesearch.py:327: LineSearchWarning: The line search algorithm did not converge\n",
      "  warn('The line search algorithm did not converge', LineSearchWarning)\n",
      "C:\\Users\\LEELAKUMAR\\anaconda3\\lib\\site-packages\\sklearn\\utils\\optimize.py:195: UserWarning: Line Search failed\n",
      "  warnings.warn('Line Search failed')\n",
      "C:\\Users\\LEELAKUMAR\\anaconda3\\lib\\site-packages\\scipy\\optimize\\linesearch.py:327: LineSearchWarning: The line search algorithm did not converge\n",
      "  warn('The line search algorithm did not converge', LineSearchWarning)\n",
      "C:\\Users\\LEELAKUMAR\\anaconda3\\lib\\site-packages\\sklearn\\utils\\optimize.py:195: UserWarning: Line Search failed\n",
      "  warnings.warn('Line Search failed')\n",
      "C:\\Users\\LEELAKUMAR\\anaconda3\\lib\\site-packages\\scipy\\optimize\\linesearch.py:327: LineSearchWarning: The line search algorithm did not converge\n",
      "  warn('The line search algorithm did not converge', LineSearchWarning)\n",
      "C:\\Users\\LEELAKUMAR\\anaconda3\\lib\\site-packages\\sklearn\\utils\\optimize.py:195: UserWarning: Line Search failed\n",
      "  warnings.warn('Line Search failed')\n",
      "C:\\Users\\LEELAKUMAR\\anaconda3\\lib\\site-packages\\scipy\\optimize\\linesearch.py:327: LineSearchWarning: The line search algorithm did not converge\n",
      "  warn('The line search algorithm did not converge', LineSearchWarning)\n",
      "C:\\Users\\LEELAKUMAR\\anaconda3\\lib\\site-packages\\sklearn\\utils\\optimize.py:195: UserWarning: Line Search failed\n",
      "  warnings.warn('Line Search failed')\n",
      "C:\\Users\\LEELAKUMAR\\anaconda3\\lib\\site-packages\\scipy\\optimize\\linesearch.py:327: LineSearchWarning: The line search algorithm did not converge\n",
      "  warn('The line search algorithm did not converge', LineSearchWarning)\n",
      "C:\\Users\\LEELAKUMAR\\anaconda3\\lib\\site-packages\\sklearn\\utils\\optimize.py:195: UserWarning: Line Search failed\n",
      "  warnings.warn('Line Search failed')\n"
     ]
    }
   ],
   "source": [
    "grid_search = GridSearchCV(clf, param_grid, cv=5, scoring='accuracy')\n",
    "grid_search.fit(X_train_embeddings, y_train)"
   ]
  },
  {
   "cell_type": "code",
   "execution_count": null,
   "id": "7067a81b",
   "metadata": {},
   "outputs": [],
   "source": [
    "best_params = grid_search.best_params_"
   ]
  },
  {
   "cell_type": "code",
   "execution_count": null,
   "id": "05f75f4d",
   "metadata": {},
   "outputs": [],
   "source": [
    "from sklearn.metrics import classification_report"
   ]
  },
  {
   "cell_type": "code",
   "execution_count": null,
   "id": "d3aac51a",
   "metadata": {},
   "outputs": [],
   "source": [
    "y_pred = clf.predict(X_test_embeddings)\n"
   ]
  },
  {
   "cell_type": "code",
   "execution_count": null,
   "id": "977e1452",
   "metadata": {},
   "outputs": [],
   "source": [
    "textoutput = classification_report(y_test, y_pred)\n"
   ]
  },
  {
   "cell_type": "code",
   "execution_count": null,
   "id": "683f3010",
   "metadata": {},
   "outputs": [],
   "source": [
    "print(textoutput)"
   ]
  },
  {
   "cell_type": "markdown",
   "id": "e623da93",
   "metadata": {},
   "source": [
    "Model Saving and Reloading:"
   ]
  },
  {
   "cell_type": "code",
   "execution_count": null,
   "id": "b040370b",
   "metadata": {},
   "outputs": [],
   "source": [
    "import joblib\n"
   ]
  },
  {
   "cell_type": "code",
   "execution_count": null,
   "id": "bbad7806",
   "metadata": {},
   "outputs": [],
   "source": [
    "joblib.dump(clf, 'text_classification_model.pkl')"
   ]
  },
  {
   "cell_type": "code",
   "execution_count": null,
   "id": "b178098b",
   "metadata": {},
   "outputs": [],
   "source": [
    "loaded_model = joblib.load('text_classification_model.pkl')"
   ]
  },
  {
   "cell_type": "markdown",
   "id": "5ff71df7",
   "metadata": {},
   "source": [
    "Creating an API Endpoint using Flask:"
   ]
  },
  {
   "cell_type": "code",
   "execution_count": null,
   "id": "c8aa0fee",
   "metadata": {},
   "outputs": [],
   "source": [
    "from flask import Flask, request, jsonify\n",
    "import joblib\n",
    "from sentence_transformers import SentenceTransformer"
   ]
  },
  {
   "cell_type": "code",
   "execution_count": null,
   "id": "f46801eb",
   "metadata": {},
   "outputs": [],
   "source": [
    "app = Flask(__name__)"
   ]
  },
  {
   "cell_type": "markdown",
   "id": "dda4eda3",
   "metadata": {},
   "source": [
    "Load the model and the SentenceBERT model\n"
   ]
  },
  {
   "cell_type": "code",
   "execution_count": null,
   "id": "8f7bb0a7",
   "metadata": {},
   "outputs": [],
   "source": [
    "model = joblib.load('text_classification_model.pkl')\n",
    "sbert_model = SentenceTransformer('bert-base-nli-mean-tokens')"
   ]
  },
  {
   "cell_type": "code",
   "execution_count": null,
   "id": "fdef4da6",
   "metadata": {},
   "outputs": [],
   "source": [
    "def predict():\n",
    "    data = request.json\n",
    "    text = data['text']\n",
    "    text_embedding = sbert_model.encode([text])\n",
    "    prediction = model.predict(text_embedding)\n",
    "    return jsonify({'Article_Type': prediction[0]})"
   ]
  },
  {
   "cell_type": "code",
   "execution_count": null,
   "id": "9324cf5a",
   "metadata": {},
   "outputs": [],
   "source": [
    "if __name__ == '__main__':\n"
   ]
  },
  {
   "cell_type": "code",
   "execution_count": null,
   "id": "7bd92b0b",
   "metadata": {},
   "outputs": [],
   "source": []
  },
  {
   "cell_type": "code",
   "execution_count": null,
   "id": "aba8f3bd",
   "metadata": {},
   "outputs": [],
   "source": []
  }
 ],
 "metadata": {
  "kernelspec": {
   "display_name": "Python 3",
   "language": "python",
   "name": "python3"
  },
  "language_info": {
   "codemirror_mode": {
    "name": "ipython",
    "version": 3
   },
   "file_extension": ".py",
   "mimetype": "text/x-python",
   "name": "python",
   "nbconvert_exporter": "python",
   "pygments_lexer": "ipython3",
   "version": "3.8.8"
  }
 },
 "nbformat": 4,
 "nbformat_minor": 5
}
